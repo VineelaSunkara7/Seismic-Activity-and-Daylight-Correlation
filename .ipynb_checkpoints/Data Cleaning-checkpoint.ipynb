{
 "cells": [
  {
   "cell_type": "markdown",
   "id": "36fb28dc-4999-4920-9ac3-d43746d4c59e",
   "metadata": {},
   "source": [
    "# **Data Cleaning**"
   ]
  },
  {
   "cell_type": "markdown",
   "id": "a2beaaab-f47d-463d-a1d7-6225973a9d9e",
   "metadata": {},
   "source": [
    "In the code below, we're cleaning the data by dropping unnecessary columns that are not required for visualizations. This is achieved using the drop function in pandas. Additionally, we're addressing duplicate rows and null values to ensure data integrity. Duplicate rows are removed using the drop_duplicates function, while null values are handled using either the dropna function to remove rows with null values or by imputing missing values with meaningful replacements. This cleaning strategy ensures that the dataset is properly prepared for further analysis and visualization."
   ]
  },
  {
   "cell_type": "code",
   "execution_count": 22,
   "id": "6226aa9c-95b5-4438-89ed-624f52150e34",
   "metadata": {},
   "outputs": [
    {
     "data": {
      "text/plain": [
       "type                            object\n",
       "id                              object\n",
       "properties.mag                 float64\n",
       "properties.place                object\n",
       "properties.time         datetime64[ns]\n",
       "properties.updated      datetime64[ns]\n",
       "properties.tz                   object\n",
       "properties.url                  object\n",
       "properties.detail               object\n",
       "properties.felt                float64\n",
       "properties.cdi                 float64\n",
       "properties.mmi                 float64\n",
       "properties.alert                object\n",
       "properties.status               object\n",
       "properties.tsunami               int64\n",
       "properties.sig                   int64\n",
       "properties.net                  object\n",
       "properties.code                 object\n",
       "properties.ids                  object\n",
       "properties.sources              object\n",
       "properties.types                object\n",
       "properties.nst                 float64\n",
       "properties.dmin                float64\n",
       "properties.rms                 float64\n",
       "properties.gap                 float64\n",
       "properties.magType              object\n",
       "properties.type                 object\n",
       "properties.title                object\n",
       "geometry.type                   object\n",
       "geometry.coordinates            object\n",
       "longitude                      float64\n",
       "latitude                       float64\n",
       "altitude                       float64\n",
       "date                    datetime64[ns]\n",
       "time                            object\n",
       "status                          object\n",
       "sunrise                         object\n",
       "sunset                          object\n",
       "first_light                     object\n",
       "last_light                      object\n",
       "dawn                            object\n",
       "dusk                            object\n",
       "solar_noon                      object\n",
       "golden_hour                     object\n",
       "day_length                      object\n",
       "timezone                        object\n",
       "utc_offset                       int64\n",
       "dtype: object"
      ]
     },
     "execution_count": 22,
     "metadata": {},
     "output_type": "execute_result"
    }
   ],
   "source": [
    "#| label: cell-datacleaning\n",
    "merged_data.dtypes"
   ]
  },
  {
   "cell_type": "code",
   "execution_count": 23,
   "id": "11ad5e3b-a565-4429-85d0-19bcd137741a",
   "metadata": {},
   "outputs": [],
   "source": [
    "#| label: cell-datacleaning1\n",
    "columns_to_drop = ['type', 'id', 'properties.place', 'properties.time','properties.updated','properties.felt', 'properties.alert','properties.tz','properties.cdi','properties.mmi',\n",
    "                   'properties.url', 'properties.detail', 'properties.status','properties.types','properties.code', 'properties.ids','geometry.type', \n",
    "                   'geometry.coordinates','status', 'timezone', 'first_light','last_light','solar_noon','utc_offset']\n",
    "\n",
    "merged_data = merged_data.drop(columns=columns_to_drop)\n"
   ]
  },
  {
   "cell_type": "code",
   "execution_count": 24,
   "id": "a756bdd9-1b44-4ea4-abc6-2874378a0db9",
   "metadata": {},
   "outputs": [
    {
     "name": "stdout",
     "output_type": "stream",
     "text": [
      "Number of duplicate rows before removing duplicates: 31\n",
      "Number of duplicate rows after removing duplicates: 0\n"
     ]
    }
   ],
   "source": [
    "#| label: cell-datacleaning2\n",
    "def handle_duplicates(df):\n",
    "    num_duplicates_before = df.duplicated().sum()\n",
    "    df.drop_duplicates(inplace=True)\n",
    "    num_duplicates_after = df.duplicated().sum()\n",
    "    return df, num_duplicates_before, num_duplicates_after\n",
    "\n",
    "\n",
    "merged_data, num_duplicates_before, num_duplicates_after = handle_duplicates(merged_data)\n",
    "print(\"Number of duplicate rows before removing duplicates:\", num_duplicates_before)\n",
    "print(\"Number of duplicate rows after removing duplicates:\", num_duplicates_after)\n"
   ]
  },
  {
   "cell_type": "code",
   "execution_count": 25,
   "id": "77cc58ac-fb23-4d7e-a1bd-16e62ae62ebb",
   "metadata": {},
   "outputs": [
    {
     "data": {
      "text/plain": [
       "properties.mag           2\n",
       "properties.tsunami       0\n",
       "properties.sig           0\n",
       "properties.net           0\n",
       "properties.sources       0\n",
       "properties.nst        1625\n",
       "properties.dmin       1629\n",
       "properties.rms           0\n",
       "properties.gap        1625\n",
       "properties.magType       2\n",
       "properties.type          0\n",
       "properties.title         0\n",
       "longitude                0\n",
       "latitude                 0\n",
       "altitude                 0\n",
       "date                     0\n",
       "time                     0\n",
       "sunrise                  2\n",
       "sunset                   2\n",
       "dawn                     3\n",
       "dusk                     3\n",
       "golden_hour              1\n",
       "day_length               0\n",
       "dtype: int64"
      ]
     },
     "execution_count": 25,
     "metadata": {},
     "output_type": "execute_result"
    }
   ],
   "source": [
    "#| label: cell-datacleaning3\n",
    "merged_data.isnull().sum()"
   ]
  },
  {
   "cell_type": "code",
   "execution_count": 26,
   "id": "5b515b32-aad3-4686-83e8-5ef6a56afe4b",
   "metadata": {},
   "outputs": [],
   "source": [
    "#| label: cell-datacleaning4\n",
    "merged_data.dropna(inplace=True)"
   ]
  },
  {
   "cell_type": "code",
   "execution_count": 27,
   "id": "1667b707-2213-44bc-a881-f6ffa6d6a58d",
   "metadata": {},
   "outputs": [
    {
     "data": {
      "text/plain": [
       "properties.mag        0\n",
       "properties.tsunami    0\n",
       "properties.sig        0\n",
       "properties.net        0\n",
       "properties.sources    0\n",
       "properties.nst        0\n",
       "properties.dmin       0\n",
       "properties.rms        0\n",
       "properties.gap        0\n",
       "properties.magType    0\n",
       "properties.type       0\n",
       "properties.title      0\n",
       "longitude             0\n",
       "latitude              0\n",
       "altitude              0\n",
       "date                  0\n",
       "time                  0\n",
       "sunrise               0\n",
       "sunset                0\n",
       "dawn                  0\n",
       "dusk                  0\n",
       "golden_hour           0\n",
       "day_length            0\n",
       "dtype: int64"
      ]
     },
     "execution_count": 27,
     "metadata": {},
     "output_type": "execute_result"
    }
   ],
   "source": [
    "#| label: cell-datacleaning5\n",
    "merged_data.isnull().sum()"
   ]
  },
  {
   "cell_type": "code",
   "execution_count": 28,
   "id": "abe4cbc1-f36b-42fe-a7d7-481e6d1d2448",
   "metadata": {},
   "outputs": [],
   "source": [
    "#| label: cell-datacleaning6\n",
    "merged_data.rename(columns={\n",
    "    'properties.mag': 'Magnitude',\n",
    "    'properties.tsunami': 'Tsunami_Alert',\n",
    "    'properties.sig': 'Significance',\n",
    "    'properties.net': 'Network',\n",
    "    'properties.sources': 'Sources',\n",
    "    'properties.nst': 'Number_of_Stations',\n",
    "    'properties.dmin': 'Depth_Minimum',\n",
    "    'properties.rms': 'Root_Mean_Square',\n",
    "    'properties.gap': 'Gap',\n",
    "    'properties.magType': 'Magnitude_Type',\n",
    "    'properties.type': 'Event_Type',\n",
    "    'properties.title': 'Event_Title'\n",
    "}, inplace=True)"
   ]
  },
  {
   "cell_type": "code",
   "execution_count": 29,
   "id": "536066c2-d6a3-405f-93d7-b2ca0fff7d97",
   "metadata": {},
   "outputs": [
    {
     "data": {
      "text/html": [
       "<div>\n",
       "<style scoped>\n",
       "    .dataframe tbody tr th:only-of-type {\n",
       "        vertical-align: middle;\n",
       "    }\n",
       "\n",
       "    .dataframe tbody tr th {\n",
       "        vertical-align: top;\n",
       "    }\n",
       "\n",
       "    .dataframe thead th {\n",
       "        text-align: right;\n",
       "    }\n",
       "</style>\n",
       "<table border=\"1\" class=\"dataframe\">\n",
       "  <thead>\n",
       "    <tr style=\"text-align: right;\">\n",
       "      <th></th>\n",
       "      <th>Magnitude</th>\n",
       "      <th>Tsunami_Alert</th>\n",
       "      <th>Significance</th>\n",
       "      <th>Network</th>\n",
       "      <th>Sources</th>\n",
       "      <th>Number_of_Stations</th>\n",
       "      <th>Depth_Minimum</th>\n",
       "      <th>Root_Mean_Square</th>\n",
       "      <th>Gap</th>\n",
       "      <th>Magnitude_Type</th>\n",
       "      <th>...</th>\n",
       "      <th>latitude</th>\n",
       "      <th>altitude</th>\n",
       "      <th>date</th>\n",
       "      <th>time</th>\n",
       "      <th>sunrise</th>\n",
       "      <th>sunset</th>\n",
       "      <th>dawn</th>\n",
       "      <th>dusk</th>\n",
       "      <th>golden_hour</th>\n",
       "      <th>day_length</th>\n",
       "    </tr>\n",
       "  </thead>\n",
       "  <tbody>\n",
       "    <tr>\n",
       "      <th>0</th>\n",
       "      <td>0.98</td>\n",
       "      <td>0</td>\n",
       "      <td>15</td>\n",
       "      <td>nc</td>\n",
       "      <td>,nc,</td>\n",
       "      <td>7.0</td>\n",
       "      <td>0.006471</td>\n",
       "      <td>0.03</td>\n",
       "      <td>92.0</td>\n",
       "      <td>md</td>\n",
       "      <td>...</td>\n",
       "      <td>38.792999</td>\n",
       "      <td>0.09</td>\n",
       "      <td>2024-05-01</td>\n",
       "      <td>18:08:56.200000</td>\n",
       "      <td>6:15:16 AM</td>\n",
       "      <td>8:03:47 PM</td>\n",
       "      <td>5:46:35 AM</td>\n",
       "      <td>8:32:28 PM</td>\n",
       "      <td>7:27:03 PM</td>\n",
       "      <td>13:48:30</td>\n",
       "    </tr>\n",
       "    <tr>\n",
       "      <th>1</th>\n",
       "      <td>1.26</td>\n",
       "      <td>0</td>\n",
       "      <td>24</td>\n",
       "      <td>ci</td>\n",
       "      <td>,ci,</td>\n",
       "      <td>28.0</td>\n",
       "      <td>0.177400</td>\n",
       "      <td>0.13</td>\n",
       "      <td>53.0</td>\n",
       "      <td>ml</td>\n",
       "      <td>...</td>\n",
       "      <td>35.488000</td>\n",
       "      <td>2.90</td>\n",
       "      <td>2024-05-01</td>\n",
       "      <td>18:08:31.070000</td>\n",
       "      <td>6:04:04 AM</td>\n",
       "      <td>7:40:43 PM</td>\n",
       "      <td>5:36:50 AM</td>\n",
       "      <td>8:07:57 PM</td>\n",
       "      <td>7:05:41 PM</td>\n",
       "      <td>13:36:39</td>\n",
       "    </tr>\n",
       "    <tr>\n",
       "      <th>3</th>\n",
       "      <td>3.00</td>\n",
       "      <td>0</td>\n",
       "      <td>142</td>\n",
       "      <td>us</td>\n",
       "      <td>,us,</td>\n",
       "      <td>28.0</td>\n",
       "      <td>0.566000</td>\n",
       "      <td>0.51</td>\n",
       "      <td>65.0</td>\n",
       "      <td>mb_lg</td>\n",
       "      <td>...</td>\n",
       "      <td>32.501600</td>\n",
       "      <td>5.00</td>\n",
       "      <td>2024-05-01</td>\n",
       "      <td>18:03:23.736000</td>\n",
       "      <td>6:43:37 AM</td>\n",
       "      <td>8:10:22 PM</td>\n",
       "      <td>6:17:30 AM</td>\n",
       "      <td>8:36:29 PM</td>\n",
       "      <td>7:36:38 PM</td>\n",
       "      <td>13:26:45</td>\n",
       "    </tr>\n",
       "    <tr>\n",
       "      <th>5</th>\n",
       "      <td>1.18</td>\n",
       "      <td>0</td>\n",
       "      <td>21</td>\n",
       "      <td>ci</td>\n",
       "      <td>,ci,</td>\n",
       "      <td>48.0</td>\n",
       "      <td>0.078500</td>\n",
       "      <td>0.21</td>\n",
       "      <td>60.0</td>\n",
       "      <td>ml</td>\n",
       "      <td>...</td>\n",
       "      <td>33.082167</td>\n",
       "      <td>7.74</td>\n",
       "      <td>2024-05-01</td>\n",
       "      <td>17:39:58.840000</td>\n",
       "      <td>5:58:32 AM</td>\n",
       "      <td>7:27:14 PM</td>\n",
       "      <td>5:32:12 AM</td>\n",
       "      <td>7:53:33 PM</td>\n",
       "      <td>6:53:14 PM</td>\n",
       "      <td>13:28:41</td>\n",
       "    </tr>\n",
       "    <tr>\n",
       "      <th>6</th>\n",
       "      <td>1.52</td>\n",
       "      <td>0</td>\n",
       "      <td>36</td>\n",
       "      <td>ci</td>\n",
       "      <td>,ci,</td>\n",
       "      <td>44.0</td>\n",
       "      <td>0.032590</td>\n",
       "      <td>0.19</td>\n",
       "      <td>59.0</td>\n",
       "      <td>ml</td>\n",
       "      <td>...</td>\n",
       "      <td>33.816667</td>\n",
       "      <td>4.84</td>\n",
       "      <td>2024-05-01</td>\n",
       "      <td>17:27:54.840000</td>\n",
       "      <td>6:03:21 AM</td>\n",
       "      <td>7:34:26 PM</td>\n",
       "      <td>5:36:46 AM</td>\n",
       "      <td>8:01:01 PM</td>\n",
       "      <td>7:00:08 PM</td>\n",
       "      <td>13:31:04</td>\n",
       "    </tr>\n",
       "  </tbody>\n",
       "</table>\n",
       "<p>5 rows × 23 columns</p>\n",
       "</div>"
      ],
      "text/plain": [
       "   Magnitude  Tsunami_Alert  Significance Network Sources  Number_of_Stations  \\\n",
       "0       0.98              0            15      nc    ,nc,                 7.0   \n",
       "1       1.26              0            24      ci    ,ci,                28.0   \n",
       "3       3.00              0           142      us    ,us,                28.0   \n",
       "5       1.18              0            21      ci    ,ci,                48.0   \n",
       "6       1.52              0            36      ci    ,ci,                44.0   \n",
       "\n",
       "   Depth_Minimum  Root_Mean_Square   Gap Magnitude_Type  ...   latitude  \\\n",
       "0       0.006471              0.03  92.0             md  ...  38.792999   \n",
       "1       0.177400              0.13  53.0             ml  ...  35.488000   \n",
       "3       0.566000              0.51  65.0          mb_lg  ...  32.501600   \n",
       "5       0.078500              0.21  60.0             ml  ...  33.082167   \n",
       "6       0.032590              0.19  59.0             ml  ...  33.816667   \n",
       "\n",
       "  altitude       date             time     sunrise      sunset        dawn  \\\n",
       "0     0.09 2024-05-01  18:08:56.200000  6:15:16 AM  8:03:47 PM  5:46:35 AM   \n",
       "1     2.90 2024-05-01  18:08:31.070000  6:04:04 AM  7:40:43 PM  5:36:50 AM   \n",
       "3     5.00 2024-05-01  18:03:23.736000  6:43:37 AM  8:10:22 PM  6:17:30 AM   \n",
       "5     7.74 2024-05-01  17:39:58.840000  5:58:32 AM  7:27:14 PM  5:32:12 AM   \n",
       "6     4.84 2024-05-01  17:27:54.840000  6:03:21 AM  7:34:26 PM  5:36:46 AM   \n",
       "\n",
       "         dusk golden_hour day_length  \n",
       "0  8:32:28 PM  7:27:03 PM   13:48:30  \n",
       "1  8:07:57 PM  7:05:41 PM   13:36:39  \n",
       "3  8:36:29 PM  7:36:38 PM   13:26:45  \n",
       "5  7:53:33 PM  6:53:14 PM   13:28:41  \n",
       "6  8:01:01 PM  7:00:08 PM   13:31:04  \n",
       "\n",
       "[5 rows x 23 columns]"
      ]
     },
     "execution_count": 29,
     "metadata": {},
     "output_type": "execute_result"
    }
   ],
   "source": [
    "#| label: cell-datacleaning7\n",
    "merged_data.head()"
   ]
  },
  {
   "cell_type": "markdown",
   "id": "8ca38065-d594-491d-b572-8f10390e2500",
   "metadata": {},
   "source": [
    "# **Test data quality**"
   ]
  },
  {
   "cell_type": "markdown",
   "id": "9015e833-d7b5-4779-808b-5eb7d4c6aeb2",
   "metadata": {},
   "source": [
    "To ensure the quality and integrity of our data, we implemented a series of tests and sanity checks. Firstly, we verified the absence of missing values in the tidied DataFrame using assert statements, confirming that no data was missing. Additionally, we conducted tests to ensure a reasonable number of rows in the DataFrame and to catch any potential data processing issues or errors. Furthermore, we checked for duplicate rows to maintain data integrity and tidiness, confirming that there were no duplicate entries. These tests were crucial in ensuring the reliability of our data for subsequent analysis and visualization."
   ]
  },
  {
   "cell_type": "code",
   "execution_count": 30,
   "id": "6423255a-2d05-4893-9ce0-dcf4d1e3b5c1",
   "metadata": {},
   "outputs": [],
   "source": [
    "#| label: cell-dataquality\n",
    "# Verify no missing values\n",
    "assert merged_data.isnull().sum().sum() == 0, \"There are missing values in the tidied DataFrame.\"\n",
    "\n",
    "# Verify reasonable number of rows\n",
    "assert len(merged_data) > 0, \"The tidied DataFrame is empty.\"\n",
    "assert len(merged_data) < 10000, \"The number of rows in the tidied DataFrame seems too large. Check if there's a data processing issue.\"\n",
    "\n",
    "# Check for duplicates\n",
    "assert len(merged_data) == len(merged_data.drop_duplicates()), \"Duplicate rows exist in the tidied DataFrame.\"\n"
   ]
  },
  {
   "cell_type": "markdown",
   "id": "5efc195a-8060-4f14-9e34-2c551bef5f25",
   "metadata": {},
   "source": [
    "# **Store your data in at least 3 different formats**"
   ]
  },
  {
   "cell_type": "markdown",
   "id": "0af20b1e-f891-4da8-89f9-bf072f4df759",
   "metadata": {},
   "source": [
    "Storing data in multiple formats, such as SQLite3 databases, CSV files, and Excel spreadsheets, offers versatility and accessibility across different platforms and use cases. SQLite3 databases provide efficient querying and manipulation capabilities, ideal for applications requiring frequent data retrieval. CSV files ensure compatibility with various tools and platforms, facilitating easy data exchange and processing. Excel spreadsheets offer advanced formatting and visualization options, suitable for creating reports and dashboards. By employing these formats, we enhance data accessibility, interoperability, and usability, catering to diverse user preferences and requirements in data analysis, visualization, and reporting workflows."
   ]
  },
  {
   "cell_type": "code",
   "execution_count": 31,
   "id": "937e1359-871a-406d-9d8d-cecb43650b98",
   "metadata": {},
   "outputs": [],
   "source": [
    "#| label: cell-datastore\n",
    "# Save as CSV\n",
    "merged_data.to_csv('cleaned_data.csv', index=False)"
   ]
  },
  {
   "cell_type": "code",
   "execution_count": 32,
   "id": "690be4b4-3bd5-4401-a83e-413e666ab4e4",
   "metadata": {},
   "outputs": [],
   "source": [
    "#| label: cell-datastore1\n",
    "# Save as Excel\n",
    "merged_data.to_excel('cleaned_data.xlsx', index=False)"
   ]
  },
  {
   "cell_type": "code",
   "execution_count": 33,
   "id": "74b72562-5dbb-4221-bcf3-fcc1fea1a1b7",
   "metadata": {},
   "outputs": [
    {
     "name": "stdout",
     "output_type": "stream",
     "text": [
      "Data successfully stored in SQLite database.\n"
     ]
    }
   ],
   "source": [
    "#| label: cell-datastore2\n",
    "import sqlite3\n",
    "conn = sqlite3.connect('merged_data.db')\n",
    "merged_data.to_sql('merged_data_table', conn, index=False, if_exists='replace')\n",
    "conn.commit()\n",
    "conn.close()\n",
    "\n",
    "print(\"Data successfully stored in SQLite database.\")\n"
   ]
  },
  {
   "cell_type": "markdown",
   "id": "814b5f21-9d28-4ded-8063-b6e3f12705a8",
   "metadata": {},
   "source": [
    "# **Backup of the raw and tidied data on external storage**"
   ]
  },
  {
   "cell_type": "code",
   "execution_count": 34,
   "id": "8bb68148-4774-457c-9274-5713086f669b",
   "metadata": {},
   "outputs": [],
   "source": [
    "#| label: cell-databackup\n",
    "# Save data to JSON files\n",
    "with open('data.json', 'w') as file:\n",
    "    json.dump(data, file)\n",
    "\n",
    "with open('api_data_list.json', 'w') as file:\n",
    "    json.dump(api_data_list, file)"
   ]
  },
  {
   "cell_type": "markdown",
   "id": "9ee5643b-21d8-4c66-9089-b87ae4af1eb8",
   "metadata": {},
   "source": [
    "### **I've stored both the raw data and tidied data on GitHub for easy access. Here's the link to the GitHub repository where you can view and download the files:https://github.com/stats-at-Rutgers/Backup-files**.\n",
    "\n",
    "\r\n"
   ]
  }
 ],
 "metadata": {
  "kernelspec": {
   "display_name": "Python 3 (ipykernel)",
   "language": "python",
   "name": "python3"
  },
  "language_info": {
   "codemirror_mode": {
    "name": "ipython",
    "version": 3
   },
   "file_extension": ".py",
   "mimetype": "text/x-python",
   "name": "python",
   "nbconvert_exporter": "python",
   "pygments_lexer": "ipython3",
   "version": "3.12.3"
  }
 },
 "nbformat": 4,
 "nbformat_minor": 5
}
